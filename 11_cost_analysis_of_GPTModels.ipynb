{
 "cells": [
  {
   "cell_type": "code",
   "execution_count": 2,
   "metadata": {},
   "outputs": [],
   "source": [
    "import openai \n",
    "import config "
   ]
  },
  {
   "cell_type": "code",
   "execution_count": 3,
   "metadata": {},
   "outputs": [],
   "source": [
    "prompt = \"Estimate the square root of 121 and type a 'orange' after every digit of the square root\""
   ]
  },
  {
   "cell_type": "code",
   "execution_count": 4,
   "metadata": {},
   "outputs": [],
   "source": [
    "openai.api_key = config.API_KEY"
   ]
  },
  {
   "cell_type": "code",
   "execution_count": 33,
   "metadata": {},
   "outputs": [],
   "source": [
    "'''\n",
    "    cost listed is for per 1000 tokens\n",
    "'''\n",
    "model_ids = {\n",
    "    # \"DAVINCI 003\": {\"model\":\"text-davinci-003\", \"cost\":0.02}, deprecated\n",
    "    # \"DAVINCI\": {\"model\":\"gpt-3.5-turbo-instruct\", \"cost\":0.02},\n",
    "    # \"GPT3.5 TURBO\": {\"model\":\"gpt-3.5-turbo-1106\", \"cost\":0.003}, #\t$0.0010 / 1K tokens\t$0.0020 / 1K tokens\n",
    "    \"GPT3.5 TURBO 0301\": {\"model\":\"gpt-3.5-turbo-0301\", \"cost\":0.002},\n",
    "    \"GPT4\": {\"model\":\"gpt-4\", \"cost\":0.0045},\n",
    "    # \"CURIE\": {\"model\":\"text-curie-001\", \"cost\":0.002},\n",
    "    # \"BABBAGE\": {\"model\":\"text-babbage-001\", \"cost\":0.005},\n",
    "}"
   ]
  },
  {
   "cell_type": "code",
   "execution_count": 34,
   "metadata": {},
   "outputs": [
    {
     "name": "stdout",
     "output_type": "stream",
     "text": [
      "GPT3.5 TURBO 0301: The square root of 121 is 11 and the digits with an 'orange' after them are 1, 1. So it's 1orange1orange\n",
      "GPT3.5 TURBO 0301 COST: 0.00016\n",
      "GPT3.5 TURBO 0301: The square root of 121 is 11 and the digits with an 'orange' after them are 1, 1. So it's 1orange1orange\n",
      "GPT3.5 TURBO 0301 COST: 0.00016\n",
      "GPT4: Okay, the square root of 121 is 11. Here it is with \"orange\" after every digit:\n",
      "\n",
      "1orange1orange\n",
      "GPT4 COST: 0.000315\n"
     ]
    }
   ],
   "source": [
    "# Make API calls to the models and store the responses\n",
    "responses = {}\n",
    "for model_name, model_id in model_ids.items():\n",
    "    if \"GPT\" not in model_name:\n",
    "        response = openai.chat.completions.create(\n",
    "            model = model_id[\"model\"],\n",
    "            messages = [\n",
    "                {\"role\": \"user\", \"content\": \"I will ask you a question\"},\n",
    "                {\"role\": \"assistant\", \"content\": \"Ok\"},\n",
    "                {\"role\": \"user\", \"content\": f\"{prompt}\"}\n",
    "            ],\n",
    "            max_tokens = 50,\n",
    "            n=1,\n",
    "            stop = None,\n",
    "            temperature =0.7,\n",
    "        )\n",
    "        \n",
    "        responses[model_name] = [\" \".join(response.choices[0].message.content.strip()), response.usage.total_tokens/1000*model_id['cost']]\n",
    "    else:\n",
    "        response = openai.chat.completions.create(\n",
    "            model = model_id['model'],\n",
    "            messages=[\n",
    "                {\"role\": \"user\", \"content\": \"I will ask you a question\"},\n",
    "                {\"role\": \"assistant\", \"content\" : \"Ok\"},\n",
    "                {\"role\": \"user\", \"content\": f\"{prompt}\"}\n",
    "            ]\n",
    "        ) \n",
    "        # print(response)\n",
    "        responses[model_name] = [\"\".join(response.choices[0].message.content.strip()), response.usage.total_tokens/1000*model_id['cost']]\n",
    "    \n",
    "    for model, response in responses.items():\n",
    "        print(f\"{model}: {response[0]}\")\n",
    "        print(f\"{model} COST: {response[1]}\")\n",
    "        \n"
   ]
  },
  {
   "cell_type": "code",
   "execution_count": null,
   "metadata": {},
   "outputs": [],
   "source": []
  }
 ],
 "metadata": {
  "kernelspec": {
   "display_name": "llm",
   "language": "python",
   "name": "python3"
  },
  "language_info": {
   "codemirror_mode": {
    "name": "ipython",
    "version": 3
   },
   "file_extension": ".py",
   "mimetype": "text/x-python",
   "name": "python",
   "nbconvert_exporter": "python",
   "pygments_lexer": "ipython3",
   "version": "3.11.5"
  }
 },
 "nbformat": 4,
 "nbformat_minor": 2
}
