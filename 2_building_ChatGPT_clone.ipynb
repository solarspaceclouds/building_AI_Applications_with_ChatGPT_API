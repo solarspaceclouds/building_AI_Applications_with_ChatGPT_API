{
 "cells": [
  {
   "cell_type": "markdown",
   "metadata": {},
   "source": [
    "# Aim\n",
    "- render simple browser chat interface to interact with a chatbot\n",
    "    - using Flask and HTML\n",
    "- chatbot will accept user input and send it to the ChatGPT API\n",
    "    - intercepting ChatGPT API endpoints\n",
    "    - OpenAI's ChatGPT API for text generation\n",
    "    - passing user input from frontend to backend using AJAX\n",
    "- display the response from the ChatGPT API to the user\n",
    "    - display generated text in the frontend\n",
    "- show chat history"
   ]
  },
  {
   "cell_type": "markdown",
   "metadata": {},
   "source": [
    "## Important things to note:\n",
    "1. Set up python virtual env to keep dependencies separate from other projects on machine: \n",
    "-  ensure proj has all necessary dependencies and will not conflict with other projects\n",
    "2. Securely store ChatGPT API key to avoid unauthorized access.\n",
    "3. Manage API requests (pricing is based on num of tokens processed)\n",
    "4. Structure the application to keep code organized and maintainable as project grows\n"
   ]
  }
 ],
 "metadata": {
  "language_info": {
   "name": "python"
  }
 },
 "nbformat": 4,
 "nbformat_minor": 2
}
