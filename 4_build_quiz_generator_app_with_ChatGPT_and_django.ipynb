{
 "cells": [
  {
   "cell_type": "markdown",
   "metadata": {},
   "source": [
    "# Quiz Generate App with ChatGPT API and Django"
   ]
  },
  {
   "cell_type": "markdown",
   "metadata": {},
   "source": [
    "- install Django and create running project\n",
    "- build django views for exam generation application\n",
    "- integrate chatGPT API with Django and intercepting ChatGPT responses in Django backend\n",
    "- utilizing Bootstrap templates to create visually appealing interface\n",
    "- store and fetch ChatGPT responses in secure database\n",
    "- add file download functionality to application"
   ]
  }
 ],
 "metadata": {
  "language_info": {
   "name": "python"
  }
 },
 "nbformat": 4,
 "nbformat_minor": 2
}
