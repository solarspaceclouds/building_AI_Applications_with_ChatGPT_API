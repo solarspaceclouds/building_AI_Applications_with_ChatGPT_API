{
 "cells": [
  {
   "cell_type": "markdown",
   "metadata": {},
   "source": [
    "# Language Translation Desktop App with ChatGPT API and Microsoft Word\n",
    "- use microsoft word library to extract text from word documents\n",
    "- integrate ChatGPT API for language translation\n",
    "- create user interface for the Desktop app using Tkinter library\n",
    "- implement language selection and file-browsing functionalities\n",
    "- test the translation flow using sample texts\n",
    "- use GPT-3.5 turbo language model"
   ]
  },
  {
   "cell_type": "code",
   "execution_count": null,
   "metadata": {
    "vscode": {
     "languageId": "plaintext"
    }
   },
   "outputs": [],
   "source": [
    "#!pip install openai\n",
    "#!pip install python-docx"
   ]
  }
 ],
 "metadata": {
  "language_info": {
   "name": "python"
  }
 },
 "nbformat": 4,
 "nbformat_minor": 2
}
