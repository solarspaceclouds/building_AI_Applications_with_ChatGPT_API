{
 "cells": [
  {
   "cell_type": "code",
   "execution_count": 1,
   "metadata": {},
   "outputs": [],
   "source": [
    "import openai \n",
    "import config\n",
    "import os"
   ]
  },
  {
   "cell_type": "code",
   "execution_count": 2,
   "metadata": {},
   "outputs": [],
   "source": [
    "# openai.api_key = config.API_KEY\n",
    "os.environ[\"OPENAI_API_KEY\"] = config.API_KEY"
   ]
  },
  {
   "cell_type": "markdown",
   "metadata": {},
   "source": [
    "# To create a training file"
   ]
  },
  {
   "cell_type": "code",
   "execution_count": 3,
   "metadata": {},
   "outputs": [],
   "source": [
    "from openai import OpenAI\n",
    "client = OpenAI()"
   ]
  },
  {
   "cell_type": "code",
   "execution_count": 4,
   "metadata": {},
   "outputs": [],
   "source": [
    "file = client.files.create(\n",
    "  file=open(\"train_data_prepared.jsonl\", \"rb\"),\n",
    "  purpose=\"fine-tune\"\n",
    ")\n",
    "file_id = file.id\n",
    "# print(file_id)"
   ]
  },
  {
   "cell_type": "code",
   "execution_count": 6,
   "metadata": {},
   "outputs": [],
   "source": [
    "job_id= client.fine_tuning.jobs.create(\n",
    "  training_file=file_id,\n",
    "  model=\"gpt-3.5-turbo\"\n",
    ").id\n",
    "# print(job_id)"
   ]
  },
  {
   "cell_type": "markdown",
   "metadata": {},
   "source": [
    "# To fine-tune a model on the training file"
   ]
  },
  {
   "cell_type": "code",
   "execution_count": 7,
   "metadata": {},
   "outputs": [
    {
     "data": {
      "text/plain": [
       "[FineTuningJob(id='ftjob-6Azw6sKYd7mZGAN7WOm7PRZ7', created_at=1708694545, error=Error(code=None, message=None, param=None, error=None), fine_tuned_model=None, finished_at=None, hyperparameters=Hyperparameters(n_epochs=7, batch_size=1, learning_rate_multiplier=2), model='gpt-3.5-turbo-0613', object='fine_tuning.job', organization_id='org-tGCVVkvJGer1gXBNYJ5TusdW', result_files=[], status='running', trained_tokens=None, training_file='file-CORhRgXGBeu54ajOQggrXDos', validation_file=None),\n",
       " FineTuningJob(id='ftjob-wWg5J89NSZqM4VO3i48FGG1X', created_at=1708694384, error=Error(code=None, message=None, param=None, error=None), fine_tuned_model=None, finished_at=None, hyperparameters=Hyperparameters(n_epochs=7, batch_size=1, learning_rate_multiplier=2), model='gpt-3.5-turbo-0613', object='fine_tuning.job', organization_id='org-tGCVVkvJGer1gXBNYJ5TusdW', result_files=[], status='running', trained_tokens=None, training_file='file-ZDx11xnzd0KiuO3TlZMIc7vz', validation_file=None),\n",
       " FineTuningJob(id='ftjob-YJJhcDATGKDtfbzNgwBfkX7h', created_at=1708694317, error=Error(code=None, message=None, param=None, error=None), fine_tuned_model=None, finished_at=None, hyperparameters=Hyperparameters(n_epochs=7, batch_size=1, learning_rate_multiplier=2), model='gpt-3.5-turbo-0613', object='fine_tuning.job', organization_id='org-tGCVVkvJGer1gXBNYJ5TusdW', result_files=[], status='running', trained_tokens=None, training_file='file-crwJDxP4LWYTht1cJFaXwIfj', validation_file=None),\n",
       " FineTuningJob(id='ftjob-nurtjLkjvpFRmr0HX8Z64txq', created_at=1708692007, error=Error(code=None, message=None, param=None, error=None), fine_tuned_model='ft:gpt-3.5-turbo-0613:solarspaceclouds::8vPEBHOP', finished_at=1708692362, hyperparameters=Hyperparameters(n_epochs=7, batch_size=1, learning_rate_multiplier=2), model='gpt-3.5-turbo-0613', object='fine_tuning.job', organization_id='org-tGCVVkvJGer1gXBNYJ5TusdW', result_files=['file-dFAfmN089O89Tx9xCnu4TJ3F'], status='succeeded', trained_tokens=2492, training_file='file-jp2WjU7fzMXmLPpvnz4nNDlI', validation_file=None),\n",
       " FineTuningJob(id='ftjob-gedIViNvJes19nXJAXGr4H2S', created_at=1708691986, error=Error(code=None, message=None, param=None, error=None), fine_tuned_model='ft:gpt-3.5-turbo-0613:solarspaceclouds::8vPEEpwj', finished_at=1708692365, hyperparameters=Hyperparameters(n_epochs=7, batch_size=1, learning_rate_multiplier=2), model='gpt-3.5-turbo-0613', object='fine_tuning.job', organization_id='org-tGCVVkvJGer1gXBNYJ5TusdW', result_files=['file-13tuJzB6oMA7uFqrOjGD04fO'], status='succeeded', trained_tokens=2492, training_file='file-jp2WjU7fzMXmLPpvnz4nNDlI', validation_file=None),\n",
       " FineTuningJob(id='ftjob-IKu0RclZu2zPZHCSIPJeLdyN', created_at=1708691839, error=Error(code=None, message=None, param=None, error=None), fine_tuned_model='ft:gpt-3.5-turbo-0613:solarspaceclouds::8vPBaHZJ', finished_at=1708692201, hyperparameters=Hyperparameters(n_epochs=7, batch_size=1, learning_rate_multiplier=2), model='gpt-3.5-turbo-0613', object='fine_tuning.job', organization_id='org-tGCVVkvJGer1gXBNYJ5TusdW', result_files=['file-3NhmJ4el9na3JedNYkzw0PJc'], status='succeeded', trained_tokens=2492, training_file='file-jp2WjU7fzMXmLPpvnz4nNDlI', validation_file=None),\n",
       " FineTuningJob(id='ftjob-naZ2lKaRDMTotpDHwkq4vTQo', created_at=1708683210, error=Error(code=None, message=None, param=None, error=None), fine_tuned_model='ft:gpt-3.5-turbo-0613:solarspaceclouds::8vMwavHs', finished_at=1708683583, hyperparameters=Hyperparameters(n_epochs=7, batch_size=1, learning_rate_multiplier=2), model='gpt-3.5-turbo-0613', object='fine_tuning.job', organization_id='org-tGCVVkvJGer1gXBNYJ5TusdW', result_files=['file-lvOHS5FAT8FdjVGVFKLepdcJ'], status='succeeded', trained_tokens=2492, training_file='file-crwJDxP4LWYTht1cJFaXwIfj', validation_file=None),\n",
       " FineTuningJob(id='ftjob-Fsyg6gBIVGEkl7JdqhMlOUwi', created_at=1708683058, error=Error(code=None, message=None, param=None, error=None), fine_tuned_model='ft:gpt-3.5-turbo-0613:solarspaceclouds::8vMuBoka', finished_at=1708683434, hyperparameters=Hyperparameters(n_epochs=7, batch_size=1, learning_rate_multiplier=2), model='gpt-3.5-turbo-0613', object='fine_tuning.job', organization_id='org-tGCVVkvJGer1gXBNYJ5TusdW', result_files=['file-qky8lkKc9s2JOR2IymdMNIb3'], status='succeeded', trained_tokens=2492, training_file='file-DCsyxaXtJhpyLs5X1AwviiaZ', validation_file=None),\n",
       " FineTuningJob(id='ftjob-1zQ0Ci29OK9DQZwVOiuVqThy', created_at=1708683057, error=Error(code=None, message=None, param=None, error=None), fine_tuned_model='ft:gpt-3.5-turbo-0613:solarspaceclouds::8vMudWdq', finished_at=1708683463, hyperparameters=Hyperparameters(n_epochs=7, batch_size=1, learning_rate_multiplier=2), model='gpt-3.5-turbo-0613', object='fine_tuning.job', organization_id='org-tGCVVkvJGer1gXBNYJ5TusdW', result_files=['file-1uEGQdOQf8uaTS33ZMNKiEPq'], status='succeeded', trained_tokens=2492, training_file='file-DCsyxaXtJhpyLs5X1AwviiaZ', validation_file=None),\n",
       " FineTuningJob(id='ftjob-wNsJFKW3kDuMQrgNZH60Sy5B', created_at=1708361088, error=Error(code=None, message=None, param=None, error=None), fine_tuned_model='ft:gpt-3.5-turbo-0613:solarspaceclouds::8u196nio', finished_at=1708361464, hyperparameters=Hyperparameters(n_epochs=7, batch_size=1, learning_rate_multiplier=2), model='gpt-3.5-turbo-0613', object='fine_tuning.job', organization_id='org-tGCVVkvJGer1gXBNYJ5TusdW', result_files=['file-IgskkgshYtCtXZePLF5zR3pc'], status='succeeded', trained_tokens=2492, training_file='file-jp2WjU7fzMXmLPpvnz4nNDlI', validation_file=None)]"
      ]
     },
     "execution_count": 7,
     "metadata": {},
     "output_type": "execute_result"
    }
   ],
   "source": [
    "client.fine_tuning.jobs.list(limit=10).data"
   ]
  },
  {
   "cell_type": "code",
   "execution_count": 8,
   "metadata": {},
   "outputs": [],
   "source": [
    "# List 10 fine-tuning jobs\n",
    "job_num = -1 # choosing oldest model; note: latest created will be assigned index 0; FIFO\n",
    "item = client.fine_tuning.jobs.list(limit=10).data[job_num]\n",
    "job_id = item.id\n",
    "training_file = item.training_file\n",
    "# print(job_id)\n",
    "# print(training_file)"
   ]
  },
  {
   "cell_type": "code",
   "execution_count": 9,
   "metadata": {},
   "outputs": [],
   "source": [
    "fine_tuned_model_name = client.fine_tuning.jobs.retrieve(job_id).fine_tuned_model\n",
    "# print(fine_tuned_model_name)"
   ]
  },
  {
   "cell_type": "code",
   "execution_count": 10,
   "metadata": {},
   "outputs": [
    {
     "name": "stdout",
     "output_type": "stream",
     "text": [
      "ft:gpt-3.5-turbo-0613:solarspaceclouds::8u196nio\n"
     ]
    }
   ],
   "source": [
    "print(fine_tuned_model_name)"
   ]
  },
  {
   "cell_type": "code",
   "execution_count": 11,
   "metadata": {},
   "outputs": [],
   "source": [
    "# client.fine_tuning.jobs.retrieve(job_id)"
   ]
  },
  {
   "cell_type": "code",
   "execution_count": 12,
   "metadata": {},
   "outputs": [],
   "source": [
    "# from openai import OpenAI\n",
    "# client = OpenAI()\n",
    "\n",
    "# # List 10 fine-tuning jobs\n",
    "# client.fine_tuning.jobs.list(limit=10)\n",
    "\n",
    "# # Retrieve the state of a fine-tune\n",
    "# client.fine_tuning.jobs.retrieve(\"ftjob-abc123\")\n",
    "\n",
    "# # Cancel a job\n",
    "# client.fine_tuning.jobs.cancel(\"ftjob-abc123\")\n",
    "\n",
    "# # List up to 10 events from a fine-tuning job\n",
    "# client.fine_tuning.jobs.list_events(fine_tuning_job_id=\"ftjob-abc123\", limit=10)\n",
    "\n",
    "# # Delete a fine-tuned model (must be an owner of the org the model was created in)\n",
    "# client.models.delete(\"ft:gpt-3.5-turbo:acemeco:suffix:abc123\")"
   ]
  },
  {
   "cell_type": "markdown",
   "metadata": {},
   "source": [
    "# Use the fine-tuned model"
   ]
  },
  {
   "cell_type": "code",
   "execution_count": 13,
   "metadata": {},
   "outputs": [],
   "source": [
    "prompt = \"Arabian Nights.\""
   ]
  },
  {
   "cell_type": "code",
   "execution_count": 14,
   "metadata": {},
   "outputs": [],
   "source": [
    "completion = client.chat.completions.create(\n",
    "  # model=\"ft:gpt-3.5-turbo-0613:solarspaceclouds::8u196nio\",\n",
    "  model = fine_tuned_model_name,\n",
    "  messages=[\n",
    "    {\"role\": \"system\", \"content\": f\"{prompt}\"},\n",
    "    {\"role\": \"user\", \"content\": \"Tell me the book summary\"}\n",
    "  ]\n",
    ")"
   ]
  },
  {
   "cell_type": "code",
   "execution_count": 15,
   "metadata": {},
   "outputs": [
    {
     "name": "stdout",
     "output_type": "stream",
     "text": [
      "Arabian Nights is a collection of ancient Middle Eastern and South Asian stories, compiled and translated over many centuries. The book is framed by the tale of Scheherazade, a clever young woman who marries an unpredictable king. In order to ensure her survival each night, she weaves stories and cliffhangers, captivating the king's interest and delaying her own execution. Through her storytelling, readers are transported to a world of magical genies, mystical creatures, epic adventures, and timeless moral lessons. The collection includes well-known tales such as Aladdin's Wonderful Lamp, Ali Baba and the Forty Thieves, and Sinbad the Sailor, capturing the essence of Arabian folklore and serving as a testament to the power of imagination and the transformative power of storytelling.\n"
     ]
    }
   ],
   "source": [
    "print(completion.choices[0].message.content)"
   ]
  }
 ],
 "metadata": {
  "kernelspec": {
   "display_name": "llm",
   "language": "python",
   "name": "python3"
  },
  "language_info": {
   "codemirror_mode": {
    "name": "ipython",
    "version": 3
   },
   "file_extension": ".py",
   "mimetype": "text/x-python",
   "name": "python",
   "nbconvert_exporter": "python",
   "pygments_lexer": "ipython3",
   "version": "3.11.5"
  }
 },
 "nbformat": 4,
 "nbformat_minor": 2
}
